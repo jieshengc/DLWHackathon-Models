{
 "cells": [
  {
   "cell_type": "code",
   "execution_count": 1,
   "metadata": {},
   "outputs": [
    {
     "name": "stderr",
     "output_type": "stream",
     "text": [
      "c:\\Users\\User\\miniconda3\\envs\\mlda-env\\lib\\site-packages\\xgboost\\compat.py:36: FutureWarning: pandas.Int64Index is deprecated and will be removed from pandas in a future version. Use pandas.Index with the appropriate dtype instead.\n",
      "  from pandas import MultiIndex, Int64Index\n"
     ]
    }
   ],
   "source": [
    "import pandas as pd\n",
    "import numpy as np\n",
    "import matplotlib.pyplot as plt\n",
    "import seaborn as sns\n",
    "\n",
    "from sklearn.preprocessing import MinMaxScaler\n",
    "from sklearn.neural_network import MLPClassifier\n",
    "from sklearn.model_selection import train_test_split, cross_val_score\n",
    "from sklearn.metrics import accuracy_score, confusion_matrix, classification_report, ConfusionMatrixDisplay, roc_curve, roc_auc_score\n",
    "\n",
    "from sklearn.ensemble import GradientBoostingClassifier\n",
    "from xgboost import XGBClassifier\n",
    "from tensorflow import keras\n",
    "\n",
    "import pickle\n",
    "\n",
    "TEST_SIZE = 0.3"
   ]
  },
  {
   "cell_type": "code",
   "execution_count": 2,
   "metadata": {},
   "outputs": [
    {
     "name": "stdout",
     "output_type": "stream",
     "text": [
      "<class 'pandas.core.frame.DataFrame'>\n",
      "RangeIndex: 70756 entries, 0 to 70755\n",
      "Data columns (total 10 columns):\n",
      " #   Column              Non-Null Count  Dtype  \n",
      "---  ------              --------------  -----  \n",
      " 0   url                 70756 non-null  object \n",
      " 1   use_https           70756 non-null  int64  \n",
      " 2   has_ip              70756 non-null  int64  \n",
      " 3   length_of_url       70756 non-null  int64  \n",
      " 4   symbols_to_totalch  70756 non-null  float64\n",
      " 5   have_at             70756 non-null  int64  \n",
      " 6   have_redirection    70756 non-null  int64  \n",
      " 7   path_to_url_length  70756 non-null  float64\n",
      " 8   subdomains          70756 non-null  int64  \n",
      " 9   is_phishing         70756 non-null  int64  \n",
      "dtypes: float64(2), int64(7), object(1)\n",
      "memory usage: 5.4+ MB\n"
     ]
    }
   ],
   "source": [
    "data = pd.read_csv(\"datasets/final_model.csv\")\n",
    "data.info()"
   ]
  },
  {
   "cell_type": "code",
   "execution_count": 3,
   "metadata": {},
   "outputs": [
    {
     "data": {
      "text/html": [
       "<div>\n",
       "<style scoped>\n",
       "    .dataframe tbody tr th:only-of-type {\n",
       "        vertical-align: middle;\n",
       "    }\n",
       "\n",
       "    .dataframe tbody tr th {\n",
       "        vertical-align: top;\n",
       "    }\n",
       "\n",
       "    .dataframe thead th {\n",
       "        text-align: right;\n",
       "    }\n",
       "</style>\n",
       "<table border=\"1\" class=\"dataframe\">\n",
       "  <thead>\n",
       "    <tr style=\"text-align: right;\">\n",
       "      <th></th>\n",
       "      <th>count</th>\n",
       "      <th>mean</th>\n",
       "      <th>std</th>\n",
       "      <th>min</th>\n",
       "      <th>25%</th>\n",
       "      <th>50%</th>\n",
       "      <th>75%</th>\n",
       "      <th>max</th>\n",
       "    </tr>\n",
       "  </thead>\n",
       "  <tbody>\n",
       "    <tr>\n",
       "      <th>use_https</th>\n",
       "      <td>70756.0</td>\n",
       "      <td>0.193581</td>\n",
       "      <td>0.395107</td>\n",
       "      <td>0.00000</td>\n",
       "      <td>0.00000</td>\n",
       "      <td>0.00000</td>\n",
       "      <td>0.00000</td>\n",
       "      <td>1.00000</td>\n",
       "    </tr>\n",
       "    <tr>\n",
       "      <th>has_ip</th>\n",
       "      <td>70756.0</td>\n",
       "      <td>0.000452</td>\n",
       "      <td>0.021262</td>\n",
       "      <td>0.00000</td>\n",
       "      <td>0.00000</td>\n",
       "      <td>0.00000</td>\n",
       "      <td>0.00000</td>\n",
       "      <td>1.00000</td>\n",
       "    </tr>\n",
       "    <tr>\n",
       "      <th>length_of_url</th>\n",
       "      <td>70756.0</td>\n",
       "      <td>89.780810</td>\n",
       "      <td>46.794274</td>\n",
       "      <td>16.00000</td>\n",
       "      <td>68.00000</td>\n",
       "      <td>88.00000</td>\n",
       "      <td>104.00000</td>\n",
       "      <td>2081.00000</td>\n",
       "    </tr>\n",
       "    <tr>\n",
       "      <th>symbols_to_totalch</th>\n",
       "      <td>70756.0</td>\n",
       "      <td>0.170029</td>\n",
       "      <td>0.048846</td>\n",
       "      <td>0.01726</td>\n",
       "      <td>0.14013</td>\n",
       "      <td>0.16216</td>\n",
       "      <td>0.19355</td>\n",
       "      <td>0.41176</td>\n",
       "    </tr>\n",
       "    <tr>\n",
       "      <th>have_at</th>\n",
       "      <td>70756.0</td>\n",
       "      <td>0.007703</td>\n",
       "      <td>0.087426</td>\n",
       "      <td>0.00000</td>\n",
       "      <td>0.00000</td>\n",
       "      <td>0.00000</td>\n",
       "      <td>0.00000</td>\n",
       "      <td>1.00000</td>\n",
       "    </tr>\n",
       "    <tr>\n",
       "      <th>have_redirection</th>\n",
       "      <td>70756.0</td>\n",
       "      <td>0.007604</td>\n",
       "      <td>0.086867</td>\n",
       "      <td>0.00000</td>\n",
       "      <td>0.00000</td>\n",
       "      <td>0.00000</td>\n",
       "      <td>0.00000</td>\n",
       "      <td>1.00000</td>\n",
       "    </tr>\n",
       "    <tr>\n",
       "      <th>path_to_url_length</th>\n",
       "      <td>70756.0</td>\n",
       "      <td>0.026242</td>\n",
       "      <td>0.019528</td>\n",
       "      <td>0.00000</td>\n",
       "      <td>0.01667</td>\n",
       "      <td>0.02564</td>\n",
       "      <td>0.03226</td>\n",
       "      <td>0.16505</td>\n",
       "    </tr>\n",
       "    <tr>\n",
       "      <th>subdomains</th>\n",
       "      <td>70756.0</td>\n",
       "      <td>3.154870</td>\n",
       "      <td>1.329141</td>\n",
       "      <td>2.00000</td>\n",
       "      <td>2.00000</td>\n",
       "      <td>3.00000</td>\n",
       "      <td>5.00000</td>\n",
       "      <td>10.00000</td>\n",
       "    </tr>\n",
       "    <tr>\n",
       "      <th>is_phishing</th>\n",
       "      <td>70756.0</td>\n",
       "      <td>0.500000</td>\n",
       "      <td>0.500004</td>\n",
       "      <td>0.00000</td>\n",
       "      <td>0.00000</td>\n",
       "      <td>0.50000</td>\n",
       "      <td>1.00000</td>\n",
       "      <td>1.00000</td>\n",
       "    </tr>\n",
       "  </tbody>\n",
       "</table>\n",
       "</div>"
      ],
      "text/plain": [
       "                      count       mean        std       min       25%  \\\n",
       "use_https           70756.0   0.193581   0.395107   0.00000   0.00000   \n",
       "has_ip              70756.0   0.000452   0.021262   0.00000   0.00000   \n",
       "length_of_url       70756.0  89.780810  46.794274  16.00000  68.00000   \n",
       "symbols_to_totalch  70756.0   0.170029   0.048846   0.01726   0.14013   \n",
       "have_at             70756.0   0.007703   0.087426   0.00000   0.00000   \n",
       "have_redirection    70756.0   0.007604   0.086867   0.00000   0.00000   \n",
       "path_to_url_length  70756.0   0.026242   0.019528   0.00000   0.01667   \n",
       "subdomains          70756.0   3.154870   1.329141   2.00000   2.00000   \n",
       "is_phishing         70756.0   0.500000   0.500004   0.00000   0.00000   \n",
       "\n",
       "                         50%        75%         max  \n",
       "use_https            0.00000    0.00000     1.00000  \n",
       "has_ip               0.00000    0.00000     1.00000  \n",
       "length_of_url       88.00000  104.00000  2081.00000  \n",
       "symbols_to_totalch   0.16216    0.19355     0.41176  \n",
       "have_at              0.00000    0.00000     1.00000  \n",
       "have_redirection     0.00000    0.00000     1.00000  \n",
       "path_to_url_length   0.02564    0.03226     0.16505  \n",
       "subdomains           3.00000    5.00000    10.00000  \n",
       "is_phishing          0.50000    1.00000     1.00000  "
      ]
     },
     "execution_count": 3,
     "metadata": {},
     "output_type": "execute_result"
    }
   ],
   "source": [
    "data.describe().T"
   ]
  },
  {
   "cell_type": "code",
   "execution_count": 4,
   "metadata": {},
   "outputs": [
    {
     "data": {
      "text/html": [
       "<div>\n",
       "<style scoped>\n",
       "    .dataframe tbody tr th:only-of-type {\n",
       "        vertical-align: middle;\n",
       "    }\n",
       "\n",
       "    .dataframe tbody tr th {\n",
       "        vertical-align: top;\n",
       "    }\n",
       "\n",
       "    .dataframe thead th {\n",
       "        text-align: right;\n",
       "    }\n",
       "</style>\n",
       "<table border=\"1\" class=\"dataframe\">\n",
       "  <thead>\n",
       "    <tr style=\"text-align: right;\">\n",
       "      <th></th>\n",
       "      <th>use_https</th>\n",
       "      <th>has_ip</th>\n",
       "      <th>length_of_url</th>\n",
       "      <th>symbols_to_totalch</th>\n",
       "      <th>have_at</th>\n",
       "      <th>have_redirection</th>\n",
       "      <th>path_to_url_length</th>\n",
       "      <th>subdomains</th>\n",
       "      <th>is_phishing</th>\n",
       "    </tr>\n",
       "  </thead>\n",
       "  <tbody>\n",
       "    <tr>\n",
       "      <th>count</th>\n",
       "      <td>70756.000000</td>\n",
       "      <td>70756.000000</td>\n",
       "      <td>70756.000000</td>\n",
       "      <td>70756.000000</td>\n",
       "      <td>70756.000000</td>\n",
       "      <td>70756.000000</td>\n",
       "      <td>70756.000000</td>\n",
       "      <td>70756.000000</td>\n",
       "      <td>70756.000000</td>\n",
       "    </tr>\n",
       "    <tr>\n",
       "      <th>mean</th>\n",
       "      <td>0.193581</td>\n",
       "      <td>0.000452</td>\n",
       "      <td>0.035729</td>\n",
       "      <td>0.170029</td>\n",
       "      <td>0.007703</td>\n",
       "      <td>0.007604</td>\n",
       "      <td>0.026242</td>\n",
       "      <td>0.144359</td>\n",
       "      <td>0.500000</td>\n",
       "    </tr>\n",
       "    <tr>\n",
       "      <th>std</th>\n",
       "      <td>0.395107</td>\n",
       "      <td>0.021262</td>\n",
       "      <td>0.022661</td>\n",
       "      <td>0.048846</td>\n",
       "      <td>0.087426</td>\n",
       "      <td>0.086867</td>\n",
       "      <td>0.019528</td>\n",
       "      <td>0.166143</td>\n",
       "      <td>0.500004</td>\n",
       "    </tr>\n",
       "    <tr>\n",
       "      <th>min</th>\n",
       "      <td>0.000000</td>\n",
       "      <td>0.000000</td>\n",
       "      <td>0.000000</td>\n",
       "      <td>0.017260</td>\n",
       "      <td>0.000000</td>\n",
       "      <td>0.000000</td>\n",
       "      <td>0.000000</td>\n",
       "      <td>0.000000</td>\n",
       "      <td>0.000000</td>\n",
       "    </tr>\n",
       "    <tr>\n",
       "      <th>25%</th>\n",
       "      <td>0.000000</td>\n",
       "      <td>0.000000</td>\n",
       "      <td>0.025182</td>\n",
       "      <td>0.140130</td>\n",
       "      <td>0.000000</td>\n",
       "      <td>0.000000</td>\n",
       "      <td>0.016670</td>\n",
       "      <td>0.000000</td>\n",
       "      <td>0.000000</td>\n",
       "    </tr>\n",
       "    <tr>\n",
       "      <th>50%</th>\n",
       "      <td>0.000000</td>\n",
       "      <td>0.000000</td>\n",
       "      <td>0.034867</td>\n",
       "      <td>0.162160</td>\n",
       "      <td>0.000000</td>\n",
       "      <td>0.000000</td>\n",
       "      <td>0.025640</td>\n",
       "      <td>0.125000</td>\n",
       "      <td>0.500000</td>\n",
       "    </tr>\n",
       "    <tr>\n",
       "      <th>75%</th>\n",
       "      <td>0.000000</td>\n",
       "      <td>0.000000</td>\n",
       "      <td>0.042615</td>\n",
       "      <td>0.193550</td>\n",
       "      <td>0.000000</td>\n",
       "      <td>0.000000</td>\n",
       "      <td>0.032260</td>\n",
       "      <td>0.375000</td>\n",
       "      <td>1.000000</td>\n",
       "    </tr>\n",
       "    <tr>\n",
       "      <th>max</th>\n",
       "      <td>1.000000</td>\n",
       "      <td>1.000000</td>\n",
       "      <td>1.000000</td>\n",
       "      <td>0.411760</td>\n",
       "      <td>1.000000</td>\n",
       "      <td>1.000000</td>\n",
       "      <td>0.165050</td>\n",
       "      <td>1.000000</td>\n",
       "      <td>1.000000</td>\n",
       "    </tr>\n",
       "  </tbody>\n",
       "</table>\n",
       "</div>"
      ],
      "text/plain": [
       "          use_https        has_ip  length_of_url  symbols_to_totalch  \\\n",
       "count  70756.000000  70756.000000   70756.000000        70756.000000   \n",
       "mean       0.193581      0.000452       0.035729            0.170029   \n",
       "std        0.395107      0.021262       0.022661            0.048846   \n",
       "min        0.000000      0.000000       0.000000            0.017260   \n",
       "25%        0.000000      0.000000       0.025182            0.140130   \n",
       "50%        0.000000      0.000000       0.034867            0.162160   \n",
       "75%        0.000000      0.000000       0.042615            0.193550   \n",
       "max        1.000000      1.000000       1.000000            0.411760   \n",
       "\n",
       "            have_at  have_redirection  path_to_url_length    subdomains  \\\n",
       "count  70756.000000      70756.000000        70756.000000  70756.000000   \n",
       "mean       0.007703          0.007604            0.026242      0.144359   \n",
       "std        0.087426          0.086867            0.019528      0.166143   \n",
       "min        0.000000          0.000000            0.000000      0.000000   \n",
       "25%        0.000000          0.000000            0.016670      0.000000   \n",
       "50%        0.000000          0.000000            0.025640      0.125000   \n",
       "75%        0.000000          0.000000            0.032260      0.375000   \n",
       "max        1.000000          1.000000            0.165050      1.000000   \n",
       "\n",
       "        is_phishing  \n",
       "count  70756.000000  \n",
       "mean       0.500000  \n",
       "std        0.500004  \n",
       "min        0.000000  \n",
       "25%        0.000000  \n",
       "50%        0.500000  \n",
       "75%        1.000000  \n",
       "max        1.000000  "
      ]
     },
     "execution_count": 4,
     "metadata": {},
     "output_type": "execute_result"
    }
   ],
   "source": [
    "scaler = MinMaxScaler(feature_range=(0,1))\n",
    "cols = ['length_of_url', 'subdomains']\n",
    "\n",
    "for col in cols:\n",
    "    data[col] = scaler.fit_transform(data[[col]])\n",
    "    \n",
    "data.describe()"
   ]
  },
  {
   "cell_type": "markdown",
   "metadata": {},
   "source": [
    "Spearman Correlation"
   ]
  },
  {
   "cell_type": "code",
   "execution_count": 5,
   "metadata": {},
   "outputs": [
    {
     "data": {
      "text/plain": [
       "<AxesSubplot:>"
      ]
     },
     "execution_count": 5,
     "metadata": {},
     "output_type": "execute_result"
    },
    {
     "data": {
      "image/png": "[encoded data removed]",
      "text/plain": [
       "<Figure size 640x480 with 2 Axes>"
      ]
     },
     "metadata": {},
     "output_type": "display_data"
    }
   ],
   "source": [
    "sns.heatmap(data.iloc[1:].corr(), fmt=\".2f\")"
   ]
  },
  {
   "cell_type": "code",
   "execution_count": 6,
   "metadata": {},
   "outputs": [
    {
     "data": {
      "text/plain": [
       "<AxesSubplot:>"
      ]
     },
     "execution_count": 6,
     "metadata": {},
     "output_type": "execute_result"
    },
    {
     "data": {
      "image/png": "[encoded data removed]",
      "text/plain": [
       "<Figure size 640x480 with 1 Axes>"
      ]
     },
     "metadata": {},
     "output_type": "display_data"
    }
   ],
   "source": [
    "df = data.sample(n=30000)\n",
    "df.is_phishing.value_counts().plot(kind=\"bar\")"
   ]
  },
  {
   "cell_type": "code",
   "execution_count": 7,
   "metadata": {},
   "outputs": [
    {
     "data": {
      "text/plain": [
       "((21000, 8), (21000,), (9000, 8), (9000,))"
      ]
     },
     "execution_count": 7,
     "metadata": {},
     "output_type": "execute_result"
    }
   ],
   "source": [
    "x = df.drop(columns=['url', 'is_phishing'])\n",
    "y = df.is_phishing\n",
    "\n",
    "x_train, x_test, y_train, y_test = train_test_split(\n",
    "    x, y, test_size=TEST_SIZE\n",
    ")\n",
    "x_train, x_test, y_train, y_test = x_train.values, x_test.values, y_train.values, y_test.values \n",
    "\n",
    "x_train.shape, y_train.shape, x_test.shape, y_test.shape"
   ]
  },
  {
   "cell_type": "markdown",
   "metadata": {},
   "source": [
    "XGB Classifier"
   ]
  },
  {
   "cell_type": "code",
   "execution_count": 8,
   "metadata": {},
   "outputs": [
    {
     "name": "stdout",
     "output_type": "stream",
     "text": [
      "[10:57:01] WARNING: C:\\Windows\\Temp\\abs_557yfx631l\\croots\\recipe\\xgboost-split_1659548953302\\work\\src\\learner.cc:1115: Starting in XGBoost 1.3.0, the default evaluation metric used with the objective 'binary:logistic' was changed from 'error' to 'logloss'. Explicitly set eval_metric if you'd like to restore the old behavior.\n",
      "[10:57:03] WARNING: C:\\Windows\\Temp\\abs_557yfx631l\\croots\\recipe\\xgboost-split_1659548953302\\work\\src\\learner.cc:1115: Starting in XGBoost 1.3.0, the default evaluation metric used with the objective 'binary:logistic' was changed from 'error' to 'logloss'. Explicitly set eval_metric if you'd like to restore the old behavior.\n",
      "[10:57:04] WARNING: C:\\Windows\\Temp\\abs_557yfx631l\\croots\\recipe\\xgboost-split_1659548953302\\work\\src\\learner.cc:1115: Starting in XGBoost 1.3.0, the default evaluation metric used with the objective 'binary:logistic' was changed from 'error' to 'logloss'. Explicitly set eval_metric if you'd like to restore the old behavior.\n",
      "[10:57:05] WARNING: C:\\Windows\\Temp\\abs_557yfx631l\\croots\\recipe\\xgboost-split_1659548953302\\work\\src\\learner.cc:1115: Starting in XGBoost 1.3.0, the default evaluation metric used with the objective 'binary:logistic' was changed from 'error' to 'logloss'. Explicitly set eval_metric if you'd like to restore the old behavior.\n",
      "[10:57:06] WARNING: C:\\Windows\\Temp\\abs_557yfx631l\\croots\\recipe\\xgboost-split_1659548953302\\work\\src\\learner.cc:1115: Starting in XGBoost 1.3.0, the default evaluation metric used with the objective 'binary:logistic' was changed from 'error' to 'logloss'. Explicitly set eval_metric if you'd like to restore the old behavior.\n",
      "\n",
      "    Accuracy: 0.9965238095238094\n",
      "    Standard Deviation: 0.00035634832254989254\n",
      "\n"
     ]
    }
   ],
   "source": [
    "xgb = XGBClassifier(n_estimators=300, use_label_encoder=False)\n",
    "score = cross_val_score(xgb, x_train, y_train, cv=5, scoring=\"accuracy\")\n",
    "print(f\"\"\"\n",
    "    Accuracy: {score.mean()}\n",
    "    Standard Deviation: {score.std()}\n",
    "\"\"\")"
   ]
  },
  {
   "cell_type": "markdown",
   "metadata": {},
   "source": [
    "Gradient Boosting Classifier"
   ]
  },
  {
   "cell_type": "code",
   "execution_count": 9,
   "metadata": {},
   "outputs": [
    {
     "name": "stdout",
     "output_type": "stream",
     "text": [
      "Accuracy: 0.9943333333333333\n"
     ]
    }
   ],
   "source": [
    "gbc = GradientBoostingClassifier(max_depth=4,learning_rate=0.7)\n",
    "gbc.fit(x_train,y_train)\n",
    "y_test_gbc = gbc.predict(x_test)\n",
    "print(f\"Accuracy: {accuracy_score(y_test, y_test_gbc)}\")"
   ]
  },
  {
   "cell_type": "code",
   "execution_count": 10,
   "metadata": {},
   "outputs": [
    {
     "name": "stdout",
     "output_type": "stream",
     "text": [
      "              precision    recall  f1-score   support\n",
      "\n",
      "           0       0.99      0.99      0.99      4512\n",
      "           1       0.99      0.99      0.99      4488\n",
      "\n",
      "    accuracy                           0.99      9000\n",
      "   macro avg       0.99      0.99      0.99      9000\n",
      "weighted avg       0.99      0.99      0.99      9000\n",
      "\n"
     ]
    }
   ],
   "source": [
    "print(classification_report(y_test_gbc, y_test))"
   ]
  },
  {
   "cell_type": "markdown",
   "metadata": {},
   "source": [
    "Multi-Layer Perceptron Classifier"
   ]
  },
  {
   "cell_type": "code",
   "execution_count": 11,
   "metadata": {},
   "outputs": [
    {
     "name": "stdout",
     "output_type": "stream",
     "text": [
      "Accuracy: 0.9946666666666667\n"
     ]
    }
   ],
   "source": [
    "mlp = MLPClassifier(\n",
    "    hidden_layer_sizes=(150,100,50), \n",
    "    max_iter=500,\n",
    "    activation = 'relu',\n",
    "    solver='adam',\n",
    "    random_state=1\n",
    ")\n",
    "mlp.fit(x_train, y_train)\n",
    "y_test_mlp = mlp.predict(x_test)\n",
    "print(f\"Accuracy: {accuracy_score(y_test, y_test_mlp)}\")"
   ]
  },
  {
   "cell_type": "code",
   "execution_count": 12,
   "metadata": {},
   "outputs": [
    {
     "name": "stdout",
     "output_type": "stream",
     "text": [
      "              precision    recall  f1-score   support\n",
      "\n",
      "           0       1.00      0.99      0.99      4523\n",
      "           1       0.99      1.00      0.99      4477\n",
      "\n",
      "    accuracy                           0.99      9000\n",
      "   macro avg       0.99      0.99      0.99      9000\n",
      "weighted avg       0.99      0.99      0.99      9000\n",
      "\n"
     ]
    }
   ],
   "source": [
    "print(classification_report(y_test_mlp, y_test))"
   ]
  },
  {
   "cell_type": "markdown",
   "metadata": {},
   "source": [
    "Long Short-Term Memory Networks"
   ]
  },
  {
   "cell_type": "code",
   "execution_count": 13,
   "metadata": {},
   "outputs": [
    {
     "data": {
      "text/plain": [
       "(8, 1)"
      ]
     },
     "execution_count": 13,
     "metadata": {},
     "output_type": "execute_result"
    }
   ],
   "source": [
    "x_lstm_train = np.expand_dims(x_train, axis=2)\n",
    "x_lstm_test = np.expand_dims(x_test, axis=2)\n",
    "\n",
    "x_lstm_test[0].shape"
   ]
  },
  {
   "cell_type": "code",
   "execution_count": 14,
   "metadata": {},
   "outputs": [],
   "source": [
    "model = keras.Sequential([\n",
    "    keras.layers.BatchNormalization(input_shape=(8,1)),\n",
    "    keras.layers.Conv1D(filters=64,kernel_size=7,activation='relu'),\n",
    "\n",
    "    keras.layers.MaxPooling1D(pool_size=2) ,\n",
    "    keras.layers.Dropout(0.5),\n",
    "\n",
    "    keras.layers.LSTM(100),\n",
    "    # layers.Dropout(0.3),\n",
    "    # layers.Flatten(), # flatten out the layers\n",
    "    # layers.Dense(512,activation='relu'),\n",
    "    # layers.BatchNormalization(),\n",
    "    # layers.Dropout(0.3),\n",
    "\n",
    "    keras.layers.Dense(1, activation='sigmoid'),\n",
    "])\n",
    "\n",
    "model.compile(\n",
    "    optimizer='adam',\n",
    "    loss='binary_crossentropy',\n",
    "    metrics=['binary_accuracy'],\n",
    ")"
   ]
  },
  {
   "cell_type": "code",
   "execution_count": 15,
   "metadata": {},
   "outputs": [
    {
     "name": "stdout",
     "output_type": "stream",
     "text": [
      "Epoch 1/10\n",
      "657/657 [==============================] - 7s 6ms/step - loss: 0.1740 - binary_accuracy: 0.9463\n",
      "Epoch 2/10\n",
      "657/657 [==============================] - 4s 6ms/step - loss: 0.0778 - binary_accuracy: 0.9740\n",
      "Epoch 3/10\n",
      "657/657 [==============================] - 4s 5ms/step - loss: 0.0527 - binary_accuracy: 0.9825\n",
      "Epoch 4/10\n",
      "657/657 [==============================] - 4s 6ms/step - loss: 0.0425 - binary_accuracy: 0.9856\n",
      "Epoch 5/10\n",
      "657/657 [==============================] - 4s 6ms/step - loss: 0.0386 - binary_accuracy: 0.9869\n",
      "Epoch 6/10\n",
      "657/657 [==============================] - 4s 6ms/step - loss: 0.0385 - binary_accuracy: 0.9875\n",
      "Epoch 7/10\n",
      "657/657 [==============================] - 4s 6ms/step - loss: 0.0353 - binary_accuracy: 0.9883\n",
      "Epoch 8/10\n",
      "657/657 [==============================] - 4s 6ms/step - loss: 0.0337 - binary_accuracy: 0.9886\n",
      "Epoch 9/10\n",
      "657/657 [==============================] - 4s 6ms/step - loss: 0.0339 - binary_accuracy: 0.9890\n",
      "Epoch 10/10\n",
      "657/657 [==============================] - 4s 6ms/step - loss: 0.0315 - binary_accuracy: 0.9902\n"
     ]
    },
    {
     "data": {
      "text/plain": [
       "<keras.callbacks.History at 0x26670338160>"
      ]
     },
     "execution_count": 15,
     "metadata": {},
     "output_type": "execute_result"
    }
   ],
   "source": [
    "model.fit(\n",
    "    x_lstm_train, y_train,\n",
    "    epochs=10,\n",
    ")"
   ]
  },
  {
   "cell_type": "code",
   "execution_count": 16,
   "metadata": {},
   "outputs": [
    {
     "name": "stdout",
     "output_type": "stream",
     "text": [
      "282/282 - 2s - loss: 0.0320 - binary_accuracy: 0.9891 - 2s/epoch - 5ms/step\n",
      "binary_accuracy: 98.91%\n"
     ]
    }
   ],
   "source": [
    "scores = model.evaluate(x_test,  y_test, verbose=2)\n",
    "print(\"%s: %.2f%%\" % (model.metrics_names[1], scores[1]*100))\n"
   ]
  },
  {
   "cell_type": "code",
   "execution_count": 17,
   "metadata": {},
   "outputs": [
    {
     "name": "stderr",
     "output_type": "stream",
     "text": [
      "WARNING:absl:Found untraced functions such as _jit_compiled_convolution_op, lstm_cell_layer_call_fn, lstm_cell_layer_call_and_return_conditional_losses while saving (showing 3 of 3). These functions will not be directly callable after loading.\n"
     ]
    },
    {
     "name": "stdout",
     "output_type": "stream",
     "text": [
      "INFO:tensorflow:Assets written to: models/lstm\\assets\n"
     ]
    },
    {
     "name": "stderr",
     "output_type": "stream",
     "text": [
      "INFO:tensorflow:Assets written to: models/lstm\\assets\n"
     ]
    }
   ],
   "source": [
    "# Save models\n",
    "with open(\"models/xgb.pkl\", \"wb\") as model_file:\n",
    "    pickle.dump(xgb, model_file)\n",
    "\n",
    "with open(\"models/gbc.pkl\", \"wb\") as model_file:\n",
    "    pickle.dump(gbc, model_file)\n",
    "\n",
    "with open(\"models/mlp.pkl\", \"wb\") as model_file:\n",
    "    pickle.dump(mlp, model_file)\n",
    "    \n",
    "model.save(\"models/lstm\")"
   ]
  }
 ],
 "metadata": {
  "kernelspec": {
   "display_name": "Python 3.10.4 ('mlda-env')",
   "language": "python",
   "name": "python3"
  },
  "language_info": {
   "codemirror_mode": {
    "name": "ipython",
    "version": 3
   },
   "file_extension": ".py",
   "mimetype": "text/x-python",
   "name": "python",
   "nbconvert_exporter": "python",
   "pygments_lexer": "ipython3",
   "version": "3.10.4"
  },
  "orig_nbformat": 4,
  "vscode": {
   "interpreter": {
    "hash": "71c31ccab5948443b35171e48755eaceb9076108d03e14aebc65a648bea0b76a"
   }
  }
 },
 "nbformat": 4,
 "nbformat_minor": 2
}
